{
 "cells": [
  {
   "cell_type": "markdown",
   "metadata": {},
   "source": [
    "# 15-1. Cubes:\n",
    " A number raised to the third power is a cube. Plot the first five cubic numbers, and then plot the first 5,000 cubic numbers."
   ]
  },
  {
   "cell_type": "code",
   "execution_count": null,
   "metadata": {},
   "outputs": [],
   "source": [
    "import matplotlib.pyplot as plt\n",
    "\n",
    "\n",
    "# Plot the first five cubic numbers\n",
    "x_values_small = [1, 2, 3, 4, 5]\n",
    "y_values_small = [x**3 for x in x_values_small]\n",
    "\n",
    "# Create a scatter plot for the first five cubic numbers\n",
    "plt.scatter(x_values_small, y_values_small, c='blue', edgecolor='gray')\n",
    "plt.title(\"First Five Cubic Numbers\", fontsize=14)\n",
    "plt.xlabel(\"Value\", fontsize=14)\n",
    "plt.ylabel(\"Cube of Values\", fontsize=14)\n",
    "plt.show()\n",
    "\n",
    "# Plot the first 5,000 cubic numbers with a line plot\n",
    "x_values_large = list(range(1, 5001))\n",
    "y_values_large = [x**3 for x in x_values_large]\n",
    "\n",
    "# Create a line plot for the first 5,000 cubic numbers with markers\n",
    "plt.plot(x_values_large, y_values_large, c='green', marker='o', markersize=1)\n",
    "plt.title(\"First 5,000 Cubic Numbers\", fontsize=14)\n",
    "plt.xlabel(\"Value\", fontsize=14)\n",
    "plt.ylabel(\"Cube of Values\", fontsize=14)\n",
    "plt.show()\n"
   ]
  },
  {
   "cell_type": "markdown",
   "metadata": {},
   "source": [
    "# 15-2 Colored Cubes:\n",
    "Apply a colormap to your cubes plot."
   ]
  },
  {
   "cell_type": "code",
   "execution_count": null,
   "metadata": {},
   "outputs": [],
   "source": [
    "import matplotlib.pyplot as plt\n",
    "\n",
    "\n",
    "# Plot the first five cubic numbers\n",
    "x_values_small = [1, 2, 3, 4, 5]\n",
    "y_values_small = [x**3 for x in x_values_small]\n",
    "\n",
    "# Create a scatter plot for the first five cubic numbers with a colormap\n",
    "plt.scatter(x_values_small, y_values_small, c=y_values_small, cmap='viridis', edgecolor='black')\n",
    "\n",
    "plt.title(\"First Five Cubic Numbers with Colormap\", fontsize=14)\n",
    "plt.xlabel(\"Value\", fontsize=14)\n",
    "plt.ylabel(\"Cube of Values\", fontsize=14)\n",
    "plt.colorbar(label='Cube Value')  # Add colorbar\n",
    "plt.show()\n",
    "\n",
    "# Plot the first 5,000 cubic numbers with a line plot and colormap\n",
    "x_values_large = list(range(1, 5001))\n",
    "y_values_large = [x**3 for x in x_values_large]\n",
    "\n",
    "# Create a line plot for the first 5,000 cubic numbers with a colormap\n",
    "plt.scatter(x_values_large, y_values_large, c=y_values_large, cmap='plasma', s=1)  # Using scatter for better colormap display\n",
    "\n",
    "plt.title(\"First 5,000 Cubic Numbers with Colormap\", fontsize=14)\n",
    "plt.xlabel(\"Value\", fontsize=14)\n",
    "plt.ylabel(\"Cube of Values\", fontsize=14)\n",
    "plt.colorbar(label='Cube Value')  # Add colorbar\n",
    "plt.show()\n"
   ]
  }
 ],
 "metadata": {
  "kernelspec": {
   "display_name": "base",
   "language": "python",
   "name": "python3"
  },
  "language_info": {
   "codemirror_mode": {
    "name": "ipython",
    "version": 3
   },
   "file_extension": ".py",
   "mimetype": "text/x-python",
   "name": "python",
   "nbconvert_exporter": "python",
   "pygments_lexer": "ipython3",
   "version": "3.12.2"
  }
 },
 "nbformat": 4,
 "nbformat_minor": 2
}
